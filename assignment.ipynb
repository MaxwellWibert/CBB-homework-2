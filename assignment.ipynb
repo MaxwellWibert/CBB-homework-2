{
 "cells": [
  {
   "cell_type": "markdown",
   "id": "ce2b8728-9448-4b34-8aab-c029a2a29420",
   "metadata": {},
   "source": [
    "# Assignment 2"
   ]
  },
  {
   "cell_type": "markdown",
   "id": "9b293f40-7ac8-4df3-baf0-1f035f1b30af",
   "metadata": {},
   "source": [
    "## Problem 1"
   ]
  },
  {
   "cell_type": "markdown",
   "id": "0580ff55-f3e6-46ab-a02c-0131d9eff06a",
   "metadata": {},
   "source": [
    "### Load the data"
   ]
  },
  {
   "cell_type": "code",
   "execution_count": 1,
   "id": "e2b2a066-7ad2-4eab-b49d-85d1f40e50b4",
   "metadata": {},
   "outputs": [],
   "source": [
    "import xml.etree.ElementTree as ET\n",
    "tree = ET.parse('hw2-patients.xml')\n",
    "root = tree.getroot()"
   ]
  },
  {
   "cell_type": "code",
   "execution_count": 2,
   "id": "f795a9d1-f0a0-41b1-b0b0-3e671250b644",
   "metadata": {},
   "outputs": [
    {
     "name": "stdout",
     "output_type": "stream",
     "text": [
      "<Element 'generated' at 0x7f6bf86ef180>\n",
      "<Element 'institution' at 0x7f6bfc7aa3b0>\n",
      "<Element 'patients' at 0x7f6bf86f4590>\n"
     ]
    }
   ],
   "source": [
    "for child in root:\n",
    "    print(child)"
   ]
  },
  {
   "cell_type": "code",
   "execution_count": 3,
   "id": "08559690-0878-4fed-a430-3440b0da6761",
   "metadata": {},
   "outputs": [],
   "source": [
    "patients_ET = root[2]"
   ]
  },
  {
   "cell_type": "code",
   "execution_count": 4,
   "id": "cf4c9d57-4e80-4059-b59b-5d738ade8c74",
   "metadata": {},
   "outputs": [],
   "source": [
    "patient = patients_ET[0]"
   ]
  },
  {
   "cell_type": "code",
   "execution_count": 5,
   "id": "c41c5c79-7744-4eb5-8f96-fcbc9f17f6a6",
   "metadata": {},
   "outputs": [
    {
     "data": {
      "text/plain": [
       "{'age': '19.529988374393394', 'gender': 'female', 'name': 'Tammy Martin'}"
      ]
     },
     "execution_count": 5,
     "metadata": {},
     "output_type": "execute_result"
    }
   ],
   "source": [
    "patient.attrib"
   ]
  },
  {
   "cell_type": "code",
   "execution_count": 6,
   "id": "4f7fdcf7-7828-49e4-878f-bbe02331a36d",
   "metadata": {},
   "outputs": [],
   "source": [
    "patient_dicts = []\n",
    "for patient in patients_ET:\n",
    "    patient_dict = {\n",
    "        'name'  : patient.attrib['name'],\n",
    "        'age'   : float(patient.attrib['age']),\n",
    "        'gender': patient.attrib['gender']\n",
    "    }\n",
    "    patient_dicts.append(patient_dict)"
   ]
  },
  {
   "cell_type": "code",
   "execution_count": 7,
   "id": "1ad8a4ab-cce4-4157-bb9c-c91856e2e7a2",
   "metadata": {},
   "outputs": [],
   "source": [
    "import pandas as pd\n",
    "import matplotlib.pyplot as plt"
   ]
  },
  {
   "cell_type": "code",
   "execution_count": 8,
   "id": "cbe361ad-311c-4402-9202-7d0ed723e858",
   "metadata": {},
   "outputs": [],
   "source": [
    "patient_df = pd.DataFrame(patient_dicts)"
   ]
  },
  {
   "cell_type": "code",
   "execution_count": 9,
   "id": "29dc202c-295c-415a-a269-d3df85ea8ff9",
   "metadata": {},
   "outputs": [
    {
     "data": {
      "text/html": [
       "<div>\n",
       "<style scoped>\n",
       "    .dataframe tbody tr th:only-of-type {\n",
       "        vertical-align: middle;\n",
       "    }\n",
       "\n",
       "    .dataframe tbody tr th {\n",
       "        vertical-align: top;\n",
       "    }\n",
       "\n",
       "    .dataframe thead th {\n",
       "        text-align: right;\n",
       "    }\n",
       "</style>\n",
       "<table border=\"1\" class=\"dataframe\">\n",
       "  <thead>\n",
       "    <tr style=\"text-align: right;\">\n",
       "      <th></th>\n",
       "      <th>name</th>\n",
       "      <th>age</th>\n",
       "      <th>gender</th>\n",
       "    </tr>\n",
       "  </thead>\n",
       "  <tbody>\n",
       "    <tr>\n",
       "      <th>0</th>\n",
       "      <td>Tammy Martin</td>\n",
       "      <td>19.529988</td>\n",
       "      <td>female</td>\n",
       "    </tr>\n",
       "    <tr>\n",
       "      <th>1</th>\n",
       "      <td>Lucy Stribley</td>\n",
       "      <td>1.602197</td>\n",
       "      <td>female</td>\n",
       "    </tr>\n",
       "    <tr>\n",
       "      <th>2</th>\n",
       "      <td>Albert Trevino</td>\n",
       "      <td>19.317023</td>\n",
       "      <td>male</td>\n",
       "    </tr>\n",
       "    <tr>\n",
       "      <th>3</th>\n",
       "      <td>Troy Armour</td>\n",
       "      <td>79.441208</td>\n",
       "      <td>male</td>\n",
       "    </tr>\n",
       "    <tr>\n",
       "      <th>4</th>\n",
       "      <td>Jose Masseria</td>\n",
       "      <td>71.203863</td>\n",
       "      <td>male</td>\n",
       "    </tr>\n",
       "  </tbody>\n",
       "</table>\n",
       "</div>"
      ],
      "text/plain": [
       "             name        age  gender\n",
       "0    Tammy Martin  19.529988  female\n",
       "1   Lucy Stribley   1.602197  female\n",
       "2  Albert Trevino  19.317023    male\n",
       "3     Troy Armour  79.441208    male\n",
       "4   Jose Masseria  71.203863    male"
      ]
     },
     "execution_count": 9,
     "metadata": {},
     "output_type": "execute_result"
    }
   ],
   "source": [
    "patient_df.head()"
   ]
  },
  {
   "cell_type": "markdown",
   "id": "c1f9ec61-cfe0-40ec-bf80-b202802b1988",
   "metadata": {},
   "source": [
    "### Plot histogram of ages"
   ]
  },
  {
   "cell_type": "code",
   "execution_count": 10,
   "id": "cd44b727-f4e6-4366-8236-aa796292c03a",
   "metadata": {},
   "outputs": [
    {
     "data": {
      "text/plain": [
       "Text(0.5, 0, 'Age')"
      ]
     },
     "execution_count": 10,
     "metadata": {},
     "output_type": "execute_result"
    },
    {
     "data": {
      "image/png": "[encoded data removed]",
      "text/plain": [
       "<Figure size 432x288 with 1 Axes>"
      ]
     },
     "metadata": {
      "needs_background": "light"
     },
     "output_type": "display_data"
    }
   ],
   "source": [
    "patient_df.age.plot(kind='hist', \n",
    "                title='Distribution of Patient Ages',\n",
    "                xlabel='Age',\n",
    "                ylabel='Frequency',\n",
    "                bins=100)\n",
    "plt.xlabel('Age')"
   ]
  },
  {
   "cell_type": "markdown",
   "id": "81f06d8b-3298-4798-843a-6de91ee836b0",
   "metadata": {},
   "source": [
    "### Do any patients share the same exact age?"
   ]
  },
  {
   "cell_type": "code",
   "execution_count": 11,
   "id": "9e6129d6-2d8a-4fef-af73-4f8a9ea0d633",
   "metadata": {},
   "outputs": [
    {
     "name": "stdout",
     "output_type": "stream",
     "text": [
      "#Patients = 324357\n",
      "#Distinct Ages = 324357\n"
     ]
    }
   ],
   "source": [
    "ages = patient_df.age\n",
    "print(f\"#Patients = {ages.size}\") #Number of rows\n",
    "print(f\"#Distinct Ages = {ages.nunique()}\") #Number of unique values for age"
   ]
  },
  {
   "cell_type": "markdown",
   "id": "21590192-e422-4481-96b1-115c4746324f",
   "metadata": {},
   "source": [
    "These numbers are the same! Hence every age value is unique\n",
    "\n",
    "Because all ages are unique, we don't have to worry about edge cases later when we are sorting by age. For example, our oldest and second oldest patients will never have the same age"
   ]
  },
  {
   "cell_type": "markdown",
   "id": "3170f6fd-aa5a-49df-b5d7-b8a6c35cc39c",
   "metadata": {},
   "source": [
    "### Plot the distribution of genders. How did this provider encode gender?"
   ]
  },
  {
   "cell_type": "code",
   "execution_count": 12,
   "id": "df77832f-0aa8-4ee5-b791-2bbda37e98f1",
   "metadata": {},
   "outputs": [
    {
     "data": {
      "text/plain": [
       "Text(0, 0.5, 'Frequency')"
      ]
     },
     "execution_count": 12,
     "metadata": {},
     "output_type": "execute_result"
    },
    {
     "data": {
      "image/png": "[encoded data removed]",
      "text/plain": [
       "<Figure size 432x288 with 1 Axes>"
      ]
     },
     "metadata": {
      "needs_background": "light"
     },
     "output_type": "display_data"
    }
   ],
   "source": [
    "patient_df.gender.value_counts().plot(kind='bar')\n",
    "plt.title(\"Distribution of Gender\")\n",
    "plt.xlabel(\"Gender\")\n",
    "plt.ylabel(\"Frequency\")"
   ]
  },
  {
   "cell_type": "markdown",
   "id": "7c24522e-39d3-402a-8354-c976a7128378",
   "metadata": {},
   "source": [
    "3 Categories shown: male, female, unknown"
   ]
  },
  {
   "cell_type": "markdown",
   "id": "77106d88-73a3-4439-86d3-f2fc762a16f7",
   "metadata": {},
   "source": [
    "### Describe how you could find the second oldest person's name in O(n) time. "
   ]
  },
  {
   "cell_type": "markdown",
   "id": "77f28d4a-d42e-4629-88b1-2fed3e4645d2",
   "metadata": {},
   "source": [
    "Just keep two running variables as we go through the list--the biggest, and the second biggest (so far). For each element on the list, compare it with each variable. \n",
    "\n",
    "If new < second biggest:\n",
    "    disregard, move on to next item\n",
    "If new > biggest:\n",
    "    second biggest = biggest\n",
    "    biggest = new\n",
    "If biggest > new > second biggest:\n",
    "    second biggest = new"
   ]
  },
  {
   "cell_type": "markdown",
   "id": "863d1d4a-2bb8-44c1-90cf-98f84ae5bfe7",
   "metadata": {},
   "source": [
    "### Discuss when it might be advantageous to sort and when it is better to just use O(n) solution\n",
    "If the list is dynamic, its biggest element is frequently changing, and we frequently wish to know what its biggest element is, then we definitely want to have the list sorted, so that our frequent lookup operation is efficient. \n",
    "\n",
    "If the list is static, or if we don't often need to know the maximum age, then sorting may not be worth our time"
   ]
  },
  {
   "cell_type": "markdown",
   "id": "4c198066-b55d-4a50-8742-9a5b6a17ed0c",
   "metadata": {},
   "source": [
    "### Use bisection on a sorted list to find a patient who is 41.5 years old"
   ]
  },
  {
   "cell_type": "code",
   "execution_count": 13,
   "id": "e34bb28e-734f-4012-83df-d7b0e365628d",
   "metadata": {},
   "outputs": [],
   "source": [
    "sorted_df = patient_df.sort_values(by='age')"
   ]
  },
  {
   "cell_type": "code",
   "execution_count": 14,
   "id": "568ac3ed-156c-4747-98f0-3974fbc2b8c1",
   "metadata": {},
   "outputs": [],
   "source": [
    "sorted_list = sorted_df.values.tolist()"
   ]
  },
  {
   "cell_type": "code",
   "execution_count": 15,
   "id": "8617bf20-941f-4586-aa8b-9aa3c838c1dd",
   "metadata": {},
   "outputs": [
    {
     "data": {
      "text/plain": [
       "['Timothy Larson', 0.00010629282758800596, 'male']"
      ]
     },
     "execution_count": 15,
     "metadata": {},
     "output_type": "execute_result"
    }
   ],
   "source": [
    "sorted_list[0]"
   ]
  },
  {
   "cell_type": "markdown",
   "id": "8682c055-2e57-4e8c-bcb9-93b08927e012",
   "metadata": {},
   "source": [
    "NOTE Prompt says to find patient, not index, then later asks you to use arithmetic to find how many people are at least 41.5 years old. If they implement bisect search recursively as I have, this is not a simple arithmetic problem. Makes sense to either rephrase first part as \"find the index of the person with age 41.5\" or to relax how we find the list of 41.5+ old patients"
   ]
  },
  {
   "cell_type": "code",
   "execution_count": 16,
   "id": "e13ecc71-0e78-47a5-9899-c0292e6ca5fb",
   "metadata": {},
   "outputs": [],
   "source": [
    "import math\n",
    "def bisect_search_recursive(patient_list, search_val):\n",
    "    size = len(patient_list)\n",
    "    if(size == 0):\n",
    "        return None\n",
    "    else:\n",
    "        split_index = math.floor(size/2)\n",
    "        split_patient = patient_list[split_index]\n",
    "        if(search_val > split_patient[1]):\n",
    "            #search through all elements after split index\n",
    "            return bisect_search_recursive(patient_list[split_index + 1:], search_val)\n",
    "        elif(search_val < split_patient[1]):\n",
    "            #search through all elements before split index\n",
    "            return bisect_search_recursive(patient_list[:split_index], search_val)\n",
    "        else:\n",
    "            return split_patient\n",
    "        \n",
    "        "
   ]
  },
  {
   "cell_type": "code",
   "execution_count": 17,
   "id": "2cf916a7-3275-418d-aff3-2ae13acf55ca",
   "metadata": {},
   "outputs": [
    {
     "name": "stdout",
     "output_type": "stream",
     "text": [
      "['John Braswell', 41.5, 'male']\n"
     ]
    }
   ],
   "source": [
    "print(bisect_search_recursive(sorted_list, 41.5))"
   ]
  },
  {
   "cell_type": "code",
   "execution_count": 18,
   "id": "fe5e2975-16cc-4878-bccb-1f25982ba732",
   "metadata": {},
   "outputs": [],
   "source": [
    "def bisect_search_loop(patient_list, search_val):\n",
    "    firstdex = 0\n",
    "    lastdex = len(patient_list) - 1\n",
    "    span = lastdex - firstdex\n",
    "    \n",
    "    while(span > 0):\n",
    "        splitdex = math.floor((firstdex + lastdex)/2)\n",
    "        split_patient = patient_list[splitdex]\n",
    "        if(search_val > split_patient[1]):\n",
    "            firstdex = splitdex+1\n",
    "        elif(search_val < split_patient[1]):\n",
    "            lastdex = splitdex\n",
    "        else:\n",
    "            return (splitdex, 1)\n",
    "        span = lastdex - firstdex\n",
    "    return (splitdex, 0)"
   ]
  },
  {
   "cell_type": "code",
   "execution_count": 19,
   "id": "f37ffc63-41b6-47a7-bf36-062b75bc4914",
   "metadata": {},
   "outputs": [
    {
     "name": "stdout",
     "output_type": "stream",
     "text": [
      "173886 True\n"
     ]
    }
   ],
   "source": [
    "index, match_found = bisect_search_loop(sorted_list, 41.5)\n",
    "print(index, match_found)"
   ]
  },
  {
   "cell_type": "code",
   "execution_count": 27,
   "id": "63b58d8f-625b-4c24-98e1-bac3777e363e",
   "metadata": {},
   "outputs": [
    {
     "name": "stdout",
     "output_type": "stream",
     "text": [
      "There are 150470 people of age at least 41.5\n"
     ]
    }
   ],
   "source": [
    "print(f\"There are {len(sorted_list)- index - 1} people of age at least 41.5\")"
   ]
  },
  {
   "cell_type": "code",
   "execution_count": 30,
   "id": "8aac8b21-543e-4108-9c30-fbcb9067c533",
   "metadata": {},
   "outputs": [],
   "source": [
    "def count_age_range(min_age, max_age):\n",
    "    mindex, minmatch = bisect_search_loop(sorted_list, min_age)\n",
    "    maxdex, maxmatch = bisect_search_loop(sorted_list, max_age)\n",
    "    \n",
    "    count = maxdex - mindex + minmatch + maxmatch\n",
    "    return count"
   ]
  },
  {
   "cell_type": "code",
   "execution_count": 31,
   "id": "a7b3e764-01a3-40fb-98c7-9205c01d1d05",
   "metadata": {},
   "outputs": [
    {
     "data": {
      "text/plain": [
       "150470"
      ]
     },
     "execution_count": 31,
     "metadata": {},
     "output_type": "execute_result"
    }
   ],
   "source": [
    "count_age_range(41.5, 100)"
   ]
  },
  {
   "cell_type": "code",
   "execution_count": 43,
   "id": "236ee9ed-3f8f-47a1-9822-da5a1bace2ae",
   "metadata": {},
   "outputs": [],
   "source": [
    "def count_age_range_male(min_age, max_age):\n",
    "    \n",
    "    mindex, minmatch = bisect_search_loop(sorted_list, min_age)\n",
    "    maxdex, maxmatch = bisect_search_loop(sorted_list, max_age)\n",
    "    \n",
    "    male_minmatch = 1 if sorted_list[mindex][2] == 'male' else 0\n",
    "    print(male_minmatch)\n",
    "    male_maxmatch = 1 if sorted_list[maxdex][2] == 'male' else 0\n",
    "    print(male_maxmatch)\n",
    "    \n",
    "    total_count = minmatch + maxmatch\n",
    "    male_count = minmatch*male_minmatch + maxmatch*male_maxmatch\n",
    "    \n",
    "    for patient in sorted_list[mindex: maxdex]:\n",
    "        total_count += 1\n",
    "        if patient[2] == 'male':\n",
    "            male_count += 1\n",
    "    \n",
    "    return male_count, total_count"
   ]
  },
  {
   "cell_type": "code",
   "execution_count": 44,
   "id": "eced427e-bc85-41df-9995-f7b146f18295",
   "metadata": {},
   "outputs": [
    {
     "name": "stdout",
     "output_type": "stream",
     "text": [
      "1\n",
      "1\n"
     ]
    },
    {
     "data": {
      "text/plain": [
       "(71308, 150470)"
      ]
     },
     "execution_count": 44,
     "metadata": {},
     "output_type": "execute_result"
    }
   ],
   "source": [
    "count_age_range_male(41.5, 100)"
   ]
  },
  {
   "cell_type": "code",
   "execution_count": 45,
   "id": "fd182c32-2f4e-4237-bd6e-ce570b60a271",
   "metadata": {},
   "outputs": [
    {
     "data": {
      "text/plain": [
       "name      71307\n",
       "age       71307\n",
       "gender    71307\n",
       "dtype: int64"
      ]
     },
     "execution_count": 45,
     "metadata": {},
     "output_type": "execute_result"
    }
   ],
   "source": [
    "patient_df[(patient_df.age > 41.5) & (patient_df.gender == 'male')].count()"
   ]
  },
  {
   "cell_type": "code",
   "execution_count": 46,
   "id": "165593e8-3dc0-476c-8c1d-64509cf8e23f",
   "metadata": {},
   "outputs": [
    {
     "data": {
      "text/plain": [
       "name      150470\n",
       "age       150470\n",
       "gender    150470\n",
       "dtype: int64"
      ]
     },
     "execution_count": 46,
     "metadata": {},
     "output_type": "execute_result"
    }
   ],
   "source": [
    "patient_df[(patient_df.age > 41.5)].count()"
   ]
  },
  {
   "cell_type": "code",
   "execution_count": null,
   "id": "27783986-970f-4398-8599-2aa84d6db8a3",
   "metadata": {},
   "outputs": [],
   "source": []
  }
 ],
 "metadata": {
  "kernelspec": {
   "display_name": "Python 3 (ipykernel)",
   "language": "python",
   "name": "python3"
  },
  "language_info": {
   "codemirror_mode": {
    "name": "ipython",
    "version": 3
   },
   "file_extension": ".py",
   "mimetype": "text/x-python",
   "name": "python",
   "nbconvert_exporter": "python",
   "pygments_lexer": "ipython3",
   "version": "3.9.7"
  }
 },
 "nbformat": 4,
 "nbformat_minor": 5
}
